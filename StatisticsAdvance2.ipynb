{
  "nbformat": 4,
  "nbformat_minor": 0,
  "metadata": {
    "colab": {
      "provenance": []
    },
    "kernelspec": {
      "name": "python3",
      "display_name": "Python 3"
    },
    "language_info": {
      "name": "python"
    }
  },
  "cells": [
    {
      "cell_type": "code",
      "execution_count": null,
      "metadata": {
        "id": "PRqWBJitPiBU"
      },
      "outputs": [],
      "source": [
        "#Q1 Question1: Define the z-statistic and explain its relationship to the standard normal distribution. How is the\n",
        "#z-statistic used in hypothesis testing?\n",
        "'''\n",
        "The z-statistic is a measure that indicates how many standard deviations an element is from the mean of a dataset.\n",
        " It is calculated using the formula:\n",
        "\n",
        "Relationship to the Standard Normal Distribution\n",
        "The z-statistic follows the standard normal distribution, which is a normal distribution with a mean of 0 and a standard deviation of 1.\n",
        "\n",
        "Use in Hypothesis Testing\n",
        "In hypothesis testing, the z-statistic helps determine whether to reject the null hypothesis\n",
        "\n",
        " The process typically involves the following steps:\n",
        "\n",
        "Assumes there is an effect or difference.\n",
        "Collect Data: Obtain a sample and calculate the sample mean\n",
        "\n",
        "Calculate the Z-Statistic:\n",
        "Use the z-statistic formula to find how far the sample mean is from the population mean under\n",
        "\n",
        "Determine the Significance Level:\n",
        "Common levels are 0.05 or 0.01, which help set the threshold for rejecting\n",
        "\n",
        "Find the Critical Value:\n",
        " Using the standard normal distribution table, identify the critical z-value corresponding to the chosen significance level.\n",
        " '''\n",
        "\n"
      ]
    },
    {
      "cell_type": "code",
      "source": [
        "#Q2 : What is a p-value, and how is it used in hypothesis testing? What does it mean if the p-value is\n",
        "#very small (e.g., 0.01)?\n",
        "'''\n",
        "A p-value (probability value) is a statistical measure that helps determine the strength of the evidence against the null hypothesis in hypothesis testing\n",
        "\n",
        "Conduct the Test: After collecting data and calculating the test statistic (like the z-statistic), you determine the p-value corresponding to that statistic.\n",
        "\n",
        "Compare the P-Value to the Significance Level:\n",
        "\n",
        "A common significance level α) is 0.05.\n",
        "If the p-value is less than or equal to α, you reject 𝐻0.\n",
        "If the p-value is greater than α, you do not reject 𝐻0\n",
        "\n",
        "Interpretation of a Small P-Value\n",
        "If the p-value is very small, such as 0.01, it indicates strong evidence against the null hypothesis. Specifically:\n",
        "​\n",
        "This small p-value suggests that the observed effect is unlikely to have occurred due to random chance alone,\n",
        "leading researchers to consider rejecting the null hypothesis.\n",
        "'''\n"
      ],
      "metadata": {
        "id": "_lrkCqGSQbWH"
      },
      "execution_count": null,
      "outputs": []
    },
    {
      "cell_type": "code",
      "source": [
        "#Q3  Compare and contrast the binomial and Bernoulli distributions.\n",
        "'''\n",
        "The Bernoulli distribution and the binomial distribution are both discrete probability distributions that deal with binary outcomes, but they differ in key aspects.\n",
        " Here’s a comparison:\n",
        "\n",
        " Feature\t                   Bernoulli Distribution\t                          Binomial Distribution\n",
        "Number of Trials            1 (single trial)\t                                  n (multiple trials)\n",
        "Outcome Values  \t                0 or 1                                      n (number of successes)\n",
        "Mean\t                            p\t                                                   np\n",
        "Variance\t                      p(1−p)\t                                             np(1−p)\n",
        "Applications\t               Single experiments                         \tMultiple experiments or trials\n",
        "'''"
      ],
      "metadata": {
        "id": "CXG9tBuHTubV"
      },
      "execution_count": null,
      "outputs": []
    },
    {
      "cell_type": "code",
      "source": [
        "#Q4 Under what conditions is the binomial distribution used, and how does it relate to the Bernoulli\n",
        "#distribution?\n",
        "'''\n",
        "he binomial distribution is used under the following conditions:\n",
        "\n",
        "Fixed Number of Trials: The experiment is performed a specific number of times, denoted as\n",
        "𝑛\n",
        "n.\n",
        "\n",
        "Two Possible Outcomes: Each trial results in one of two outcomes, often referred to as \"success\" and \"failure.\"\n",
        "\n",
        "Constant Probability: The probability of success, denoted as p, remains constant for each trial.\n",
        "\n",
        "Independent Trials: The outcomes of the trials are independent of each other.\n",
        "\n",
        "Relationship to the Bernoulli Distribution\n",
        "The Bernoulli distribution is a special case of the binomial distribution where n=1.\n",
        "It models a single trial with two possible outcomes (success with probability\n",
        "p and failure with probability 1−p).\n",
        "\n",
        "Bernoulli Distribution: Models one trial with two outcomes.\n",
        "Binomial Distribution: Models n independent Bernoulli trials, focusing on the total number of successes.\n",
        "'''"
      ],
      "metadata": {
        "id": "UDHhaMRb96_P"
      },
      "execution_count": null,
      "outputs": []
    },
    {
      "cell_type": "code",
      "source": [
        "#Q5 What are the key properties of the Poisson distribution, and when is it appropriate to use this\n",
        "#distribution\n",
        "'''\n",
        "The Poisson distribution is a discrete probability distribution that models the number of events occurring within a fixed interval of time or\n",
        " space, given certain conditions\n",
        "\n",
        "1.Discrete Events: The Poisson distribution counts the number of occurrences of an event in a specified interval.\n",
        "2.Independence: Events occur independently of each other. The occurrence of one event does not affect the occurrence of another.\n",
        "3.Rare Events: The distribution is often used for events that happen rarely in a large population or space.\n",
        "4.No Upper Limit: The number of occurrences can theoretically go up to infinity, but the probability decreases as the count increases.\n",
        "\n",
        "When to Use the Poisson Distribution\n",
        "\n",
        "Fixed Interval: When you want to model the number of events in a fixed interval of time or space (e.g., number of phone calls received in an hour).\n",
        "Rare Events: It is appropriate when the events are rare relative to the size of the interval (e.g., number of earthquakes in a year).\n",
        "'''"
      ],
      "metadata": {
        "id": "ZffGoqvW-TWx"
      },
      "execution_count": null,
      "outputs": []
    },
    {
      "cell_type": "code",
      "source": [
        "#Q6: Define the terms \"probability distribution\" and \"probability density function\" (PDF).\n",
        "# How does a PDF differ from a probability mass function (PMF)?\n",
        "'''\n",
        "1. Probability Distribution:\n",
        "\n",
        "A probability distribution describes how the probabilities are distributed over the possible outcomes of a random variable. It provides a complete description of the likelihood of occurrence of different possible values that a random variable can take.\n",
        "\n",
        "For discrete random variables, the probability distribution is represented by a probability mass function (PMF).\n",
        "\n",
        "For continuous random variables, the probability distribution is represented by a probability density function (PDF).\n",
        "\n",
        "2. Probability Density Function (PDF):\n",
        "\n",
        "A probability density function (PDF) is used to specify the probability distribution for a continuous random variable. The PDF describes the relative likelihood of the random variable taking a particular value.\n",
        "\n",
        "Key properties:\n",
        "\n",
        "The value of the PDF at any given point represents the density of the variable around that point, but not the actual probability.\n",
        "\n",
        "The probability of the variable falling within a particular range is found by integrating the PDF over that range.\n",
        "\n",
        "The total area under the PDF curve is 1, representing the total probability.\n",
        "\n",
        "3. Difference Between PDF and PMF:\n",
        "\n",
        "PDF (Probability Density Function) is for continuous random variables.\n",
        "\n",
        "The value of the PDF at a specific point is not the probability itself but the density of the variable at that point.\n",
        "\n",
        "The probability for a continuous random variable to fall within a range is determined by the area under the curve of the PDF over that range.\n",
        "\n",
        "PMF (Probability Mass Function) is for discrete random variables.\n",
        "\n",
        "The PMF assigns a probability to each specific outcome, and the sum of these probabilities is 1.\n",
        "\n",
        "The probability of each exact value is non-zero and directly given by the PMF.\n",
        "'''\n"
      ],
      "metadata": {
        "id": "YIqSZWgrjV8R"
      },
      "execution_count": null,
      "outputs": []
    },
    {
      "cell_type": "code",
      "source": [
        "#Q7: Explain the Central Limit Theorem (CLT) with example.\n",
        "'''\n",
        "The central limit theorem states that the sample mean follows approximately the normal distribution with mean(μ) and standard deviation (σ/√n)\n",
        "\n",
        "Key points of the CLT:\n",
        "\n",
        "1.Sample Size: The theorem is most applicable when the sample size is sufficiently large (typically n≥30).\n",
        "2.Independence: The variables must be independent, meaning the outcome of one variable does not affect the others.\n",
        "3.Original Distribution: The original population distribution can be any shape (uniform, exponential, etc.), and the CLT will still apply.\n",
        "Implications\n",
        "\n",
        "The means of samples drawn from the same population will form a normal distribution as the sample size increases, even if the population distribution is not normal.\n",
        "The mean of the sampling distribution will equal the mean of the population distribution.\n",
        "The standard deviation of the sampling distribution (often called the standard error) will be the population standard deviation divided by the square root of the sample size\n",
        "\n",
        "Example::\n",
        "\n",
        "Let X be a random variable along with ‘µ’ = 10 and σ = 4 . A sample of size 100 is taken from the population. Find the probability that the sum of these 100 numbers of observations is less than 900.\n",
        "\n",
        "We are asked to find the probability that the sum of 100 observations is less than 900, given that the mean μ=10 and standard deviation σ=4.\n",
        "\n",
        "P(S<900)\n",
        "\n",
        "= P(Z<(900−1000​)/40)\n",
        "\n",
        "= P(Z<−2.5) = 0.0062 or 0.62% (from the table of standard normal probabilities)\n",
        "\n"
      ],
      "metadata": {
        "id": "vyx6e9Xmj9wM"
      },
      "execution_count": null,
      "outputs": []
    },
    {
      "cell_type": "code",
      "source": [
        "#Q8: Compare z-scores and t-scores. When should you use a z-score, and when should a t-score be applied instead ?\n",
        "'''\n",
        "Both z-scores and t-scores are statistical measures used to standardize data and determine how far a particular data point is from the mean in terms of standard deviations. However, they are used in different scenarios based on the sample size and knowledge of the population standard deviation.\n",
        "\n",
        "Comparison of Z-scores and T-scores:\n",
        "\n",
        "1. Z-score:\n",
        "\n",
        "A Z-score (or standard score) measures how many standard deviations a data point or sample mean is from the population mean, assuming you know the population standard deviation.\n",
        "\n",
        "Formula\n",
        "\n",
        "Z= (X−μ)/σ\n",
        "\n",
        "X is the sample mean or individual data point,\n",
        "μ is the population mean,\n",
        "σ is the population standard deviation\n",
        "When to Use: Use the Z-score when:\n",
        "\n",
        "The sample size is large (typically n≥30).\n",
        "The population standard deviation (σ) is known.\n",
        "The data follows a normal distribution (or the Central Limit Theorem applies).\n",
        "2. T-score:\n",
        "\n",
        "A T-score (or Student’s t-score) is used when the sample size is small, and the population standard deviation is unknown. It accounts for the additional uncertainty in the estimation of the population standard deviation by using the sample standard deviation.\n",
        "\n",
        "Key Differences:\n",
        "\n",
        "Population vs. Sample Standard Deviation : Z-scores use the population standard deviation, while t-scores use the sample standard deviation.\n",
        "\n",
        "Degrees of Freedom: T-scores have degrees of freedom (n-1), which account for the uncertainty introduced by using a sample estimate instead of the population parameter.\n",
        "\n",
        "Distribution : Z-scores follow a standard normal distribution, while t-scores follow a t-distribution. The t-distribution is wider and flatter than the normal distribution, especially for smaller sample sizes.\n",
        "'''"
      ],
      "metadata": {
        "id": "AEwKXQSmk_gj"
      },
      "execution_count": null,
      "outputs": []
    },
    {
      "cell_type": "code",
      "source": [
        "#Q9: Given a sample mean of 105, a population mean of 100, a standard deviation of 15, and a sample size of 25, calculate the z-score and p-value. Based on a significance level of 0.05, do you reject or fail to reject the null hypothesis?\n",
        "#Task: Write Python code to calculate the z-score and p-value for the given data.\n",
        "#Objective: Apply the formula for the z-score and interpret the p-value for hypothesis testing.\n",
        "\n",
        "import scipy.stats as stats\n",
        "\n",
        "# given data\n",
        "sample_mean = 105\n",
        "population_mean = 100\n",
        "std_dev = 15\n",
        "sample_size = 25\n",
        "alpha = 0.05 # significance level\n",
        "\n",
        "# Calculating Standard error\n",
        "std_error = std_dev / (sample_size ** 0.5)\n",
        "\n",
        "# calculating the z-score\n",
        "z_score = (sample_mean - population_mean)/std_error\n",
        "\n",
        "# calculating p_value (Two tailed test)\n",
        "p_value = (1 - stats.norm.cdf(abs(z_score))) * 2\n",
        "\n",
        "# Output results\n",
        "print(f\"Z-score: {z_score}\")\n",
        "print(f\"P-value: {p_value}\")\n",
        "\n",
        "# Determine whether to reject the null hypothesis\n",
        "\n",
        "if p_value < alpha:\n",
        "    print(\"Reject the null hypothesis.\")\n",
        "else:\n",
        "    print(\"Fail to reject the null hypothesis.\")\n",
        "\n",
        "\n",
        "'''\n",
        "Interpretation:\n",
        "Z-score tells you how many standard deviations the sample mean is from the population mean.\n",
        "P-value helps to determine whether the observed sample mean is significantly different from the population mean.\n",
        "'''"
      ],
      "metadata": {
        "colab": {
          "base_uri": "https://localhost:8080/",
          "height": 104
        },
        "id": "1C-FnzMwlNE3",
        "outputId": "4fcde350-fece-4016-a8a0-50b7b98e145a"
      },
      "execution_count": 2,
      "outputs": [
        {
          "output_type": "stream",
          "name": "stdout",
          "text": [
            "Z-score: 1.6666666666666667\n",
            "P-value: 0.09558070454562939\n",
            "Fail to reject the null hypothesis.\n"
          ]
        },
        {
          "output_type": "execute_result",
          "data": {
            "text/plain": [
              "'\\nInterpretation:\\nZ-score tells you how many standard deviations the sample mean is from the population mean.\\nP-value helps to determine whether the observed sample mean is significantly different from the population mean.\\n'"
            ],
            "application/vnd.google.colaboratory.intrinsic+json": {
              "type": "string"
            }
          },
          "metadata": {},
          "execution_count": 2
        }
      ]
    },
    {
      "cell_type": "code",
      "source": [
        "#Q10: Simulate a binomial distribution with 10 trials and a probability of success of 0.6 using Python.\n",
        "# Generate 1,000 samples and plot the distribution. What is the expected mean and variance?\n",
        "\n",
        "import numpy as np\n",
        "import matplotlib.pyplot as plt\n",
        "\n",
        "# Given parameters\n",
        "n_trials = 10\n",
        "p_success = 0.6\n",
        "n_samples = 1000\n",
        "\n",
        "# Simulate binomial distribution\n",
        "samples = np.random.binomial(n=n_trials, p=p_success, size=n_samples)\n",
        "\n",
        "# Plot the distribution\n",
        "plt.hist(samples, bins=range(n_trials + 2), edgecolor='black', density=True)\n",
        "plt.title(\"Binomial Distribution (n=10, p=0.6)\")\n",
        "plt.xlabel(\"Number of successes\")\n",
        "plt.ylabel(\"Probability\")\n",
        "plt.show()"
      ],
      "metadata": {
        "colab": {
          "base_uri": "https://localhost:8080/",
          "height": 472
        },
        "id": "nqhlvtQbl7KV",
        "outputId": "30e1a57d-8737-40d7-e14f-1fb12c68d6a3"
      },
      "execution_count": 4,
      "outputs": [
        {
          "output_type": "display_data",
          "data": {
            "text/plain": [
              "<Figure size 640x480 with 1 Axes>"
            ],
            "image/png": "[encoded data removed]"
          },
          "metadata": {}
        }
      ]
    }
  ]
}